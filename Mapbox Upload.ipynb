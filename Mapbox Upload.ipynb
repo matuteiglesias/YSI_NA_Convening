{
 "cells": [
  {
   "cell_type": "code",
   "execution_count": 1,
   "metadata": {
    "collapsed": true
   },
   "outputs": [
    {
     "name": "stderr",
     "output_type": "stream",
     "text": [
      "/home/miglesia/anaconda2/envs/my_pymc_env/lib/python3.6/importlib/_bootstrap.py:219: RuntimeWarning: numpy.dtype size changed, may indicate binary incompatibility. Expected 96, got 88\n",
      "  return f(*args, **kwds)\n",
      "/home/miglesia/anaconda2/envs/my_pymc_env/lib/python3.6/importlib/_bootstrap.py:219: RuntimeWarning: numpy.dtype size changed, may indicate binary incompatibility. Expected 96, got 88\n",
      "  return f(*args, **kwds)\n"
     ]
    }
   ],
   "source": [
    "import pandas as pd\n",
    "import geopandas as gpd"
   ]
  },
  {
   "cell_type": "code",
   "execution_count": 2,
   "metadata": {
    "collapsed": true
   },
   "outputs": [
    {
     "name": "stderr",
     "output_type": "stream",
     "text": [
      "b'Skipping line 7: expected 14 fields, saw 15\\nSkipping line 9: expected 14 fields, saw 16\\nSkipping line 10: expected 14 fields, saw 16\\nSkipping line 11: expected 14 fields, saw 16\\nSkipping line 12: expected 14 fields, saw 15\\nSkipping line 13: expected 14 fields, saw 16\\nSkipping line 17: expected 14 fields, saw 16\\nSkipping line 18: expected 14 fields, saw 16\\nSkipping line 29: expected 14 fields, saw 16\\nSkipping line 30: expected 14 fields, saw 15\\nSkipping line 35: expected 14 fields, saw 16\\nSkipping line 36: expected 14 fields, saw 16\\nSkipping line 37: expected 14 fields, saw 16\\nSkipping line 41: expected 14 fields, saw 16\\nSkipping line 42: expected 14 fields, saw 16\\nSkipping line 44: expected 14 fields, saw 16\\nSkipping line 50: expected 14 fields, saw 15\\nSkipping line 51: expected 14 fields, saw 15\\nSkipping line 55: expected 14 fields, saw 16\\nSkipping line 57: expected 14 fields, saw 16\\nSkipping line 62: expected 14 fields, saw 15\\nSkipping line 63: expected 14 fields, saw 15\\nSkipping line 67: expected 14 fields, saw 16\\nSkipping line 68: expected 14 fields, saw 15\\nSkipping line 69: expected 14 fields, saw 15\\nSkipping line 70: expected 14 fields, saw 15\\nSkipping line 80: expected 14 fields, saw 16\\nSkipping line 81: expected 14 fields, saw 16\\nSkipping line 84: expected 14 fields, saw 16\\nSkipping line 86: expected 14 fields, saw 16\\nSkipping line 91: expected 14 fields, saw 16\\nSkipping line 92: expected 14 fields, saw 16\\nSkipping line 93: expected 14 fields, saw 16\\nSkipping line 94: expected 14 fields, saw 16\\nSkipping line 95: expected 14 fields, saw 15\\nSkipping line 96: expected 14 fields, saw 16\\nSkipping line 97: expected 14 fields, saw 16\\nSkipping line 98: expected 14 fields, saw 16\\nSkipping line 99: expected 14 fields, saw 16\\nSkipping line 100: expected 14 fields, saw 15\\nSkipping line 101: expected 14 fields, saw 16\\nSkipping line 102: expected 14 fields, saw 16\\nSkipping line 104: expected 14 fields, saw 16\\nSkipping line 105: expected 14 fields, saw 16\\nSkipping line 116: expected 14 fields, saw 16\\nSkipping line 117: expected 14 fields, saw 16\\nSkipping line 127: expected 14 fields, saw 16\\nSkipping line 128: expected 14 fields, saw 15\\nSkipping line 132: expected 14 fields, saw 16\\nSkipping line 135: expected 14 fields, saw 15\\nSkipping line 136: expected 14 fields, saw 16\\nSkipping line 137: expected 14 fields, saw 16\\nSkipping line 138: expected 14 fields, saw 16\\nSkipping line 141: expected 14 fields, saw 16\\nSkipping line 142: expected 14 fields, saw 16\\nSkipping line 144: expected 14 fields, saw 16\\nSkipping line 150: expected 14 fields, saw 16\\nSkipping line 151: expected 14 fields, saw 16\\nSkipping line 162: expected 14 fields, saw 16\\nSkipping line 163: expected 14 fields, saw 15\\nSkipping line 165: expected 14 fields, saw 16\\nSkipping line 169: expected 14 fields, saw 15\\nSkipping line 173: expected 14 fields, saw 16\\nSkipping line 174: expected 14 fields, saw 15\\nSkipping line 175: expected 14 fields, saw 16\\nSkipping line 180: expected 14 fields, saw 16\\nSkipping line 181: expected 14 fields, saw 16\\nSkipping line 182: expected 14 fields, saw 16\\nSkipping line 183: expected 14 fields, saw 16\\nSkipping line 184: expected 14 fields, saw 15\\nSkipping line 185: expected 14 fields, saw 15\\nSkipping line 189: expected 14 fields, saw 15\\nSkipping line 191: expected 14 fields, saw 16\\nSkipping line 192: expected 14 fields, saw 16\\nSkipping line 193: expected 14 fields, saw 16\\nSkipping line 194: expected 14 fields, saw 16\\nSkipping line 198: expected 14 fields, saw 16\\nSkipping line 201: expected 14 fields, saw 16\\nSkipping line 202: expected 14 fields, saw 15\\nSkipping line 203: expected 14 fields, saw 15\\nSkipping line 204: expected 14 fields, saw 15\\nSkipping line 216: expected 14 fields, saw 15\\nSkipping line 218: expected 14 fields, saw 15\\nSkipping line 219: expected 14 fields, saw 15\\nSkipping line 221: expected 14 fields, saw 16\\nSkipping line 223: expected 14 fields, saw 16\\nSkipping line 224: expected 14 fields, saw 16\\nSkipping line 225: expected 14 fields, saw 16\\nSkipping line 228: expected 14 fields, saw 15\\nSkipping line 232: expected 14 fields, saw 16\\nSkipping line 233: expected 14 fields, saw 15\\nSkipping line 234: expected 14 fields, saw 16\\nSkipping line 235: expected 14 fields, saw 16\\nSkipping line 249: expected 14 fields, saw 16\\nSkipping line 260: expected 14 fields, saw 16\\nSkipping line 261: expected 14 fields, saw 16\\nSkipping line 262: expected 14 fields, saw 15\\nSkipping line 267: expected 14 fields, saw 17\\nSkipping line 280: expected 14 fields, saw 16\\nSkipping line 285: expected 14 fields, saw 16\\nSkipping line 286: expected 14 fields, saw 16\\nSkipping line 293: expected 14 fields, saw 16\\nSkipping line 296: expected 14 fields, saw 16\\nSkipping line 297: expected 14 fields, saw 16\\nSkipping line 300: expected 14 fields, saw 16\\nSkipping line 301: expected 14 fields, saw 15\\nSkipping line 302: expected 14 fields, saw 15\\nSkipping line 303: expected 14 fields, saw 15\\nSkipping line 304: expected 14 fields, saw 15\\nSkipping line 305: expected 14 fields, saw 16\\nSkipping line 307: expected 14 fields, saw 15\\nSkipping line 308: expected 14 fields, saw 15\\nSkipping line 309: expected 14 fields, saw 16\\nSkipping line 310: expected 14 fields, saw 15\\nSkipping line 317: expected 14 fields, saw 16\\nSkipping line 318: expected 14 fields, saw 16\\nSkipping line 337: expected 14 fields, saw 16\\nSkipping line 341: expected 14 fields, saw 15\\nSkipping line 354: expected 14 fields, saw 16\\nSkipping line 355: expected 14 fields, saw 16\\nSkipping line 356: expected 14 fields, saw 16\\nSkipping line 357: expected 14 fields, saw 16\\nSkipping line 368: expected 14 fields, saw 15\\nSkipping line 374: expected 14 fields, saw 16\\nSkipping line 376: expected 14 fields, saw 15\\nSkipping line 385: expected 14 fields, saw 16\\nSkipping line 386: expected 14 fields, saw 16\\nSkipping line 387: expected 14 fields, saw 16\\nSkipping line 395: expected 14 fields, saw 15\\nSkipping line 396: expected 14 fields, saw 15\\nSkipping line 397: expected 14 fields, saw 16\\nSkipping line 398: expected 14 fields, saw 15\\nSkipping line 399: expected 14 fields, saw 15\\nSkipping line 400: expected 14 fields, saw 15\\nSkipping line 401: expected 14 fields, saw 16\\nSkipping line 402: expected 14 fields, saw 15\\nSkipping line 404: expected 14 fields, saw 16\\nSkipping line 416: expected 14 fields, saw 16\\nSkipping line 420: expected 14 fields, saw 16\\nSkipping line 421: expected 14 fields, saw 16\\nSkipping line 422: expected 14 fields, saw 16\\nSkipping line 423: expected 14 fields, saw 16\\nSkipping line 424: expected 14 fields, saw 16\\nSkipping line 435: expected 14 fields, saw 15\\nSkipping line 436: expected 14 fields, saw 16\\nSkipping line 442: expected 14 fields, saw 16\\nSkipping line 450: expected 14 fields, saw 15\\nSkipping line 451: expected 14 fields, saw 15\\nSkipping line 452: expected 14 fields, saw 15\\nSkipping line 453: expected 14 fields, saw 15\\nSkipping line 463: expected 14 fields, saw 16\\nSkipping line 464: expected 14 fields, saw 15\\nSkipping line 465: expected 14 fields, saw 16\\nSkipping line 466: expected 14 fields, saw 15\\nSkipping line 467: expected 14 fields, saw 15\\nSkipping line 472: expected 14 fields, saw 16\\nSkipping line 474: expected 14 fields, saw 16\\nSkipping line 475: expected 14 fields, saw 15\\nSkipping line 477: expected 14 fields, saw 15\\nSkipping line 515: expected 14 fields, saw 15\\nSkipping line 516: expected 14 fields, saw 16\\nSkipping line 517: expected 14 fields, saw 16\\nSkipping line 523: expected 14 fields, saw 16\\nSkipping line 529: expected 14 fields, saw 16\\nSkipping line 537: expected 14 fields, saw 16\\nSkipping line 544: expected 14 fields, saw 17\\nSkipping line 545: expected 14 fields, saw 16\\nSkipping line 547: expected 14 fields, saw 16\\nSkipping line 549: expected 14 fields, saw 16\\nSkipping line 552: expected 14 fields, saw 16\\nSkipping line 556: expected 14 fields, saw 15\\nSkipping line 561: expected 14 fields, saw 15\\nSkipping line 567: expected 14 fields, saw 16\\nSkipping line 568: expected 14 fields, saw 16\\nSkipping line 569: expected 14 fields, saw 16\\nSkipping line 573: expected 14 fields, saw 15\\nSkipping line 574: expected 14 fields, saw 16\\nSkipping line 575: expected 14 fields, saw 16\\nSkipping line 584: expected 14 fields, saw 16\\nSkipping line 585: expected 14 fields, saw 16\\nSkipping line 595: expected 14 fields, saw 16\\nSkipping line 596: expected 14 fields, saw 15\\nSkipping line 599: expected 14 fields, saw 16\\nSkipping line 601: expected 14 fields, saw 15\\nSkipping line 602: expected 14 fields, saw 16\\nSkipping line 603: expected 14 fields, saw 16\\nSkipping line 604: expected 14 fields, saw 16\\nSkipping line 607: expected 14 fields, saw 16\\nSkipping line 608: expected 14 fields, saw 16\\nSkipping line 610: expected 14 fields, saw 16\\nSkipping line 616: expected 14 fields, saw 16\\nSkipping line 617: expected 14 fields, saw 16\\nSkipping line 624: expected 14 fields, saw 16\\nSkipping line 625: expected 14 fields, saw 15\\nSkipping line 629: expected 14 fields, saw 15\\nSkipping line 633: expected 14 fields, saw 16\\nSkipping line 634: expected 14 fields, saw 15\\nSkipping line 635: expected 14 fields, saw 16\\nSkipping line 639: expected 14 fields, saw 16\\nSkipping line 640: expected 14 fields, saw 16\\nSkipping line 641: expected 14 fields, saw 16\\nSkipping line 642: expected 14 fields, saw 16\\nSkipping line 643: expected 14 fields, saw 15\\nSkipping line 644: expected 14 fields, saw 15\\nSkipping line 648: expected 14 fields, saw 15\\nSkipping line 650: expected 14 fields, saw 16\\nSkipping line 651: expected 14 fields, saw 16\\nSkipping line 652: expected 14 fields, saw 16\\nSkipping line 653: expected 14 fields, saw 16\\nSkipping line 655: expected 14 fields, saw 16\\nSkipping line 656: expected 14 fields, saw 15\\nSkipping line 657: expected 14 fields, saw 15\\nSkipping line 661: expected 14 fields, saw 16\\nSkipping line 669: expected 14 fields, saw 15\\nSkipping line 670: expected 14 fields, saw 15\\nSkipping line 671: expected 14 fields, saw 16\\nSkipping line 672: expected 14 fields, saw 15\\nSkipping line 673: expected 14 fields, saw 15\\nSkipping line 674: expected 14 fields, saw 15\\nSkipping line 675: expected 14 fields, saw 16\\nSkipping line 676: expected 14 fields, saw 15\\nSkipping line 678: expected 14 fields, saw 16\\nSkipping line 690: expected 14 fields, saw 16\\nSkipping line 694: expected 14 fields, saw 16\\nSkipping line 695: expected 14 fields, saw 16\\nSkipping line 696: expected 14 fields, saw 16\\nSkipping line 697: expected 14 fields, saw 16\\nSkipping line 698: expected 14 fields, saw 16\\nSkipping line 706: expected 14 fields, saw 15\\nSkipping line 712: expected 14 fields, saw 16\\nSkipping line 720: expected 14 fields, saw 15\\nSkipping line 721: expected 14 fields, saw 15\\nSkipping line 722: expected 14 fields, saw 15\\nSkipping line 723: expected 14 fields, saw 15\\nSkipping line 733: expected 14 fields, saw 16\\nSkipping line 734: expected 14 fields, saw 15\\nSkipping line 735: expected 14 fields, saw 16\\nSkipping line 736: expected 14 fields, saw 15\\nSkipping line 741: expected 14 fields, saw 16\\nSkipping line 743: expected 14 fields, saw 16\\nSkipping line 744: expected 14 fields, saw 15\\nSkipping line 746: expected 14 fields, saw 15\\nSkipping line 783: expected 14 fields, saw 15\\nSkipping line 784: expected 14 fields, saw 16\\nSkipping line 787: expected 14 fields, saw 16\\nSkipping line 789: expected 14 fields, saw 16\\nSkipping line 797: expected 14 fields, saw 16\\nSkipping line 805: expected 14 fields, saw 16\\nSkipping line 807: expected 14 fields, saw 16\\nSkipping line 810: expected 14 fields, saw 16\\nSkipping line 814: expected 14 fields, saw 15\\nSkipping line 819: expected 14 fields, saw 15\\nSkipping line 822: expected 14 fields, saw 16\\nSkipping line 828: expected 14 fields, saw 16\\nSkipping line 829: expected 14 fields, saw 16\\nSkipping line 830: expected 14 fields, saw 16\\nSkipping line 834: expected 14 fields, saw 15\\nSkipping line 835: expected 14 fields, saw 16\\nSkipping line 836: expected 14 fields, saw 16\\nSkipping line 841: expected 14 fields, saw 15\\nSkipping line 843: expected 14 fields, saw 15\\nSkipping line 844: expected 14 fields, saw 15\\nSkipping line 846: expected 14 fields, saw 16\\nSkipping line 848: expected 14 fields, saw 16\\nSkipping line 849: expected 14 fields, saw 16\\nSkipping line 850: expected 14 fields, saw 16\\nSkipping line 853: expected 14 fields, saw 15\\nSkipping line 857: expected 14 fields, saw 16\\nSkipping line 858: expected 14 fields, saw 15\\nSkipping line 859: expected 14 fields, saw 16\\nSkipping line 860: expected 14 fields, saw 16\\nSkipping line 874: expected 14 fields, saw 16\\nSkipping line 885: expected 14 fields, saw 16\\nSkipping line 886: expected 14 fields, saw 16\\nSkipping line 887: expected 14 fields, saw 15\\nSkipping line 892: expected 14 fields, saw 17\\nSkipping line 905: expected 14 fields, saw 16\\nSkipping line 909: expected 14 fields, saw 16\\nSkipping line 916: expected 14 fields, saw 16\\nSkipping line 919: expected 14 fields, saw 16\\nSkipping line 920: expected 14 fields, saw 16\\nSkipping line 923: expected 14 fields, saw 16\\nSkipping line 924: expected 14 fields, saw 15\\nSkipping line 925: expected 14 fields, saw 15\\nSkipping line 926: expected 14 fields, saw 15\\nSkipping line 927: expected 14 fields, saw 15\\nSkipping line 928: expected 14 fields, saw 16\\nSkipping line 930: expected 14 fields, saw 15\\nSkipping line 931: expected 14 fields, saw 15\\nSkipping line 932: expected 14 fields, saw 16\\nSkipping line 933: expected 14 fields, saw 15\\nSkipping line 940: expected 14 fields, saw 16\\nSkipping line 941: expected 14 fields, saw 16\\nSkipping line 957: expected 14 fields, saw 16\\nSkipping line 961: expected 14 fields, saw 15\\nSkipping line 974: expected 14 fields, saw 16\\nSkipping line 975: expected 14 fields, saw 16\\nSkipping line 976: expected 14 fields, saw 16\\nSkipping line 987: expected 14 fields, saw 15\\nSkipping line 993: expected 14 fields, saw 16\\nSkipping line 995: expected 14 fields, saw 15\\nSkipping line 1003: expected 14 fields, saw 16\\nSkipping line 1004: expected 14 fields, saw 16\\nSkipping line 1010: expected 14 fields, saw 15\\nSkipping line 1012: expected 14 fields, saw 16\\nSkipping line 1013: expected 14 fields, saw 16\\nSkipping line 1014: expected 14 fields, saw 16\\nSkipping line 1015: expected 14 fields, saw 15\\nSkipping line 1016: expected 14 fields, saw 16\\nSkipping line 1020: expected 14 fields, saw 16\\nSkipping line 1021: expected 14 fields, saw 16\\nSkipping line 1032: expected 14 fields, saw 16\\nSkipping line 1033: expected 14 fields, saw 15\\nSkipping line 1038: expected 14 fields, saw 16\\nSkipping line 1039: expected 14 fields, saw 16\\nSkipping line 1040: expected 14 fields, saw 16\\nSkipping line 1044: expected 14 fields, saw 16\\nSkipping line 1045: expected 14 fields, saw 16\\nSkipping line 1047: expected 14 fields, saw 16\\nSkipping line 1053: expected 14 fields, saw 15\\nSkipping line 1054: expected 14 fields, saw 15\\nSkipping line 1057: expected 14 fields, saw 15\\nSkipping line 1058: expected 14 fields, saw 16\\nSkipping line 1063: expected 14 fields, saw 16\\nSkipping line 1065: expected 14 fields, saw 16\\nSkipping line 1070: expected 14 fields, saw 16\\nSkipping line 1071: expected 14 fields, saw 16\\nSkipping line 1072: expected 14 fields, saw 16\\nSkipping line 1073: expected 14 fields, saw 16\\nSkipping line 1074: expected 14 fields, saw 15\\nSkipping line 1075: expected 14 fields, saw 16\\nSkipping line 1076: expected 14 fields, saw 16\\nSkipping line 1077: expected 14 fields, saw 16\\nSkipping line 1078: expected 14 fields, saw 16\\nSkipping line 1079: expected 14 fields, saw 15\\nSkipping line 1080: expected 14 fields, saw 16\\nSkipping line 1081: expected 14 fields, saw 16\\nSkipping line 1083: expected 14 fields, saw 16\\nSkipping line 1084: expected 14 fields, saw 16\\n'\n"
     ]
    }
   ],
   "source": [
    "# Load natural gas locations data\n",
    "df = pd.read_csv('./all_ng_data/all_data_757.csv', error_bad_lines = False, index_col=False)\n",
    "df = df[['STATE', 'COUNTY', 'PLANT', 'ZIPCODE', 'STATUS', 'CAPACITY']]\n",
    "df = df.loc[df.STATUS == 'Active']"
   ]
  },
  {
   "cell_type": "code",
   "execution_count": 3,
   "metadata": {
    "scrolled": false
   },
   "outputs": [
    {
     "data": {
      "text/html": [
       "<div>\n",
       "<style scoped>\n",
       "    .dataframe tbody tr th:only-of-type {\n",
       "        vertical-align: middle;\n",
       "    }\n",
       "\n",
       "    .dataframe tbody tr th {\n",
       "        vertical-align: top;\n",
       "    }\n",
       "\n",
       "    .dataframe thead th {\n",
       "        text-align: right;\n",
       "    }\n",
       "</style>\n",
       "<table border=\"1\" class=\"dataframe\">\n",
       "  <thead>\n",
       "    <tr style=\"text-align: right;\">\n",
       "      <th></th>\n",
       "      <th></th>\n",
       "      <th>CAPACITY</th>\n",
       "    </tr>\n",
       "    <tr>\n",
       "      <th>STATE</th>\n",
       "      <th>COUNTY</th>\n",
       "      <th></th>\n",
       "    </tr>\n",
       "  </thead>\n",
       "  <tbody>\n",
       "    <tr>\n",
       "      <th>CO</th>\n",
       "      <th>Weld</th>\n",
       "      <td>1724.0</td>\n",
       "    </tr>\n",
       "    <tr>\n",
       "      <th>TX</th>\n",
       "      <th>Colorado</th>\n",
       "      <td>2000.0</td>\n",
       "    </tr>\n",
       "    <tr>\n",
       "      <th>WV</th>\n",
       "      <th>Marshall</th>\n",
       "      <td>2140.0</td>\n",
       "    </tr>\n",
       "    <tr>\n",
       "      <th>MS</th>\n",
       "      <th>Jackson</th>\n",
       "      <td>2200.0</td>\n",
       "    </tr>\n",
       "    <tr>\n",
       "      <th>CO</th>\n",
       "      <th>Garfield</th>\n",
       "      <td>2350.0</td>\n",
       "    </tr>\n",
       "  </tbody>\n",
       "</table>\n",
       "</div>"
      ],
      "text/plain": [
       "                CAPACITY\n",
       "STATE COUNTY            \n",
       "CO    Weld        1724.0\n",
       "TX    Colorado    2000.0\n",
       "WV    Marshall    2140.0\n",
       "MS    Jackson     2200.0\n",
       "CO    Garfield    2350.0"
      ]
     },
     "execution_count": 3,
     "metadata": {},
     "output_type": "execute_result"
    }
   ],
   "source": [
    "df.groupby(['STATE', 'COUNTY'])[['CAPACITY']].sum().sort_values(by = 'CAPACITY').tail()"
   ]
  },
  {
   "cell_type": "markdown",
   "metadata": {},
   "source": [
    "### Zip codes"
   ]
  },
  {
   "cell_type": "code",
   "execution_count": 4,
   "metadata": {},
   "outputs": [],
   "source": [
    "zip_df = gpd.read_file('./cb_2013_us_zcta510_500k/cb_2013_us_zcta510_500k.shp')"
   ]
  },
  {
   "cell_type": "code",
   "execution_count": 5,
   "metadata": {
    "scrolled": false
   },
   "outputs": [],
   "source": [
    "df_plant_poly = df.merge(zip_df[['ZCTA5CE10', 'geometry']], left_on = 'ZIPCODE', right_on = 'ZCTA5CE10', how = 'left')\n",
    "df_plant_poly = df_plant_poly.dropna()"
   ]
  },
  {
   "cell_type": "markdown",
   "metadata": {},
   "source": [
    "Create random points within zip code to simulate plant location. "
   ]
  },
  {
   "cell_type": "code",
   "execution_count": 6,
   "metadata": {
    "scrolled": false
   },
   "outputs": [],
   "source": [
    "import random\n",
    "from shapely.geometry import Polygon, Point\n",
    "\n",
    "def get_random_point_in_polygon(poly):\n",
    "    (minx, miny, maxx, maxy) = poly.bounds       \n",
    "    while True:\n",
    "        p = Point(random.uniform(minx, maxx), random.uniform(miny, maxy))\n",
    "        if poly.contains(p):\n",
    "            return p\n",
    "\n",
    "df_plant_poly['point_1'] = [get_random_point_in_polygon(poly) for poly in df_plant_poly['geometry']]\n",
    "df_plant_poly['point_2'] = [get_random_point_in_polygon(poly) for poly in df_plant_poly['geometry']]\n",
    "df_plant_poly['point_3'] = [get_random_point_in_polygon(poly) for poly in df_plant_poly['geometry']]\n",
    "df_plant_poly['point_4'] = [get_random_point_in_polygon(poly) for poly in df_plant_poly['geometry']]\n",
    "df_plant_poly['point_5'] = [get_random_point_in_polygon(poly) for poly in df_plant_poly['geometry']]\n",
    "df_plant_pts = df_plant_poly.drop(['ZCTA5CE10', 'geometry'], axis = 1)"
   ]
  },
  {
   "cell_type": "markdown",
   "metadata": {},
   "source": [
    "#### Plants by county"
   ]
  },
  {
   "cell_type": "code",
   "execution_count": 7,
   "metadata": {
    "scrolled": false
   },
   "outputs": [
    {
     "data": {
      "text/html": [
       "<div>\n",
       "<style scoped>\n",
       "    .dataframe tbody tr th:only-of-type {\n",
       "        vertical-align: middle;\n",
       "    }\n",
       "\n",
       "    .dataframe tbody tr th {\n",
       "        vertical-align: top;\n",
       "    }\n",
       "\n",
       "    .dataframe thead th {\n",
       "        text-align: right;\n",
       "    }\n",
       "</style>\n",
       "<table border=\"1\" class=\"dataframe\">\n",
       "  <thead>\n",
       "    <tr style=\"text-align: right;\">\n",
       "      <th></th>\n",
       "      <th></th>\n",
       "      <th>PLANT</th>\n",
       "      <th>ZIPCODE</th>\n",
       "      <th>STATUS</th>\n",
       "      <th>CAPACITY</th>\n",
       "      <th>point_1</th>\n",
       "      <th>point_2</th>\n",
       "      <th>point_3</th>\n",
       "      <th>point_4</th>\n",
       "      <th>point_5</th>\n",
       "    </tr>\n",
       "    <tr>\n",
       "      <th>STATE</th>\n",
       "      <th>COUNTY</th>\n",
       "      <th></th>\n",
       "      <th></th>\n",
       "      <th></th>\n",
       "      <th></th>\n",
       "      <th></th>\n",
       "      <th></th>\n",
       "      <th></th>\n",
       "      <th></th>\n",
       "      <th></th>\n",
       "    </tr>\n",
       "  </thead>\n",
       "  <tbody>\n",
       "    <tr>\n",
       "      <th rowspan=\"5\" valign=\"top\">AL</th>\n",
       "      <th>Conecuh</th>\n",
       "      <td>2</td>\n",
       "      <td>2</td>\n",
       "      <td>2</td>\n",
       "      <td>2</td>\n",
       "      <td>2</td>\n",
       "      <td>2</td>\n",
       "      <td>2</td>\n",
       "      <td>2</td>\n",
       "      <td>2</td>\n",
       "    </tr>\n",
       "    <tr>\n",
       "      <th>Conecuha</th>\n",
       "      <td>2</td>\n",
       "      <td>2</td>\n",
       "      <td>2</td>\n",
       "      <td>2</td>\n",
       "      <td>2</td>\n",
       "      <td>2</td>\n",
       "      <td>2</td>\n",
       "      <td>2</td>\n",
       "      <td>2</td>\n",
       "    </tr>\n",
       "    <tr>\n",
       "      <th>Escambia</th>\n",
       "      <td>2</td>\n",
       "      <td>2</td>\n",
       "      <td>2</td>\n",
       "      <td>2</td>\n",
       "      <td>2</td>\n",
       "      <td>2</td>\n",
       "      <td>2</td>\n",
       "      <td>2</td>\n",
       "      <td>2</td>\n",
       "    </tr>\n",
       "    <tr>\n",
       "      <th>Mobile</th>\n",
       "      <td>6</td>\n",
       "      <td>6</td>\n",
       "      <td>6</td>\n",
       "      <td>6</td>\n",
       "      <td>6</td>\n",
       "      <td>6</td>\n",
       "      <td>6</td>\n",
       "      <td>6</td>\n",
       "      <td>6</td>\n",
       "    </tr>\n",
       "    <tr>\n",
       "      <th>Monroe</th>\n",
       "      <td>6</td>\n",
       "      <td>6</td>\n",
       "      <td>6</td>\n",
       "      <td>6</td>\n",
       "      <td>6</td>\n",
       "      <td>6</td>\n",
       "      <td>6</td>\n",
       "      <td>6</td>\n",
       "      <td>6</td>\n",
       "    </tr>\n",
       "  </tbody>\n",
       "</table>\n",
       "</div>"
      ],
      "text/plain": [
       "                PLANT  ZIPCODE  STATUS  CAPACITY  point_1  point_2  point_3  \\\n",
       "STATE COUNTY                                                                  \n",
       "AL    Conecuh       2        2       2         2        2        2        2   \n",
       "      Conecuha      2        2       2         2        2        2        2   \n",
       "      Escambia      2        2       2         2        2        2        2   \n",
       "      Mobile        6        6       6         6        6        6        6   \n",
       "      Monroe        6        6       6         6        6        6        6   \n",
       "\n",
       "                point_4  point_5  \n",
       "STATE COUNTY                      \n",
       "AL    Conecuh         2        2  \n",
       "      Conecuha        2        2  \n",
       "      Escambia        2        2  \n",
       "      Mobile          6        6  \n",
       "      Monroe          6        6  "
      ]
     },
     "execution_count": 7,
     "metadata": {},
     "output_type": "execute_result"
    }
   ],
   "source": [
    "# There are 572 plants in 201 counties\n",
    "df_plant_pts.groupby(['STATE', 'COUNTY']).count().sort_index().head()"
   ]
  },
  {
   "cell_type": "code",
   "execution_count": 20,
   "metadata": {},
   "outputs": [],
   "source": [
    "### Save \n",
    "df_plant_pts['geometry'] = df_plant_pts['point_2']\n",
    "gpd.GeoDataFrame(df_plant_pts.drop([col for col in df_plant_pts.columns if 'point' in col], axis = 1)\n",
    "                ).to_file(\"NG_point_2.shp\")"
   ]
  },
  {
   "cell_type": "markdown",
   "metadata": {},
   "source": [
    "#### Size distribution (log)"
   ]
  },
  {
   "cell_type": "code",
   "execution_count": 101,
   "metadata": {
    "scrolled": false
   },
   "outputs": [],
   "source": [
    "import matplotlib.pyplot as plt\n",
    "%matplotlib inline\n",
    "\n",
    "import numpy as np\n",
    "np.log10(df_plant_pts.CAPACITY).hist(bins = 20)\n",
    "plt.show()"
   ]
  },
  {
   "cell_type": "markdown",
   "metadata": {},
   "source": [
    "### Mapping"
   ]
  },
  {
   "cell_type": "code",
   "execution_count": 1,
   "metadata": {},
   "outputs": [],
   "source": [
    "import os\n",
    "\n",
    "def save_geojson(gdf, filename = 'test.geojson'):\n",
    "    try:    # Delete if geojson exists, cause overwriting is not supported\n",
    "        os.remove('./geojson/'+filename)\n",
    "    except OSError:\n",
    "        pass\n",
    "    \n",
    "    gdf.to_file('./geojson/'+filename, driver=\"GeoJSON\", encoding='utf-8')\n",
    "    \n",
    "from mapbox import Uploader\n",
    "import json\n",
    "\n",
    "def upload_file(data, name, username = 'matuteiglesias', token = 'sk.eyJ1IjoibWF0dXRlaWdsZXNpYXMiLCJhIjoiY2puODA4bW8xMGV1dzNrcGtiOGp6NXQ5aCJ9.DohKmjn_o6MK1Y4Q5FG8ew'):\n",
    "    try:    # Clear upload file if exists\n",
    "        os.remove('./upload_data.geojson')\n",
    "    except OSError:\n",
    "        pass\n",
    "    \n",
    "    # Dump into file for upload    \n",
    "    with open('./upload_data.geojson', 'w') as outfile:\n",
    "        json.dump(data, outfile)\n",
    "\n",
    "    service = Uploader(access_token=token)\n",
    "    with open('./upload_data.geojson', 'rb') as src:\n",
    "        # Acquisition of credentials, staging of data, and upload\n",
    "        # finalization is done by a single method in the Python SDK.\n",
    "        upload_resp = service.upload(src, username+'.'+name)\n",
    "        "
   ]
  },
  {
   "cell_type": "code",
   "execution_count": 4,
   "metadata": {},
   "outputs": [
    {
     "name": "stdout",
     "output_type": "stream",
     "text": [
      "Oil_Refineries\n"
     ]
    }
   ],
   "source": [
    "import geopandas as gpd\n",
    "# for i in ['1', '2']:\n",
    "#     gdf = gpd.GeoDataFrame(df_plant_pts[['STATE','COUNTY','PLANT','ZIPCODE','STATUS','CAPACITY', 'point_'+i]].rename(columns = {'point_'+i: 'geometry'}))\n",
    "#     name = 'NL_plants_'+i\n",
    "#     save_geojson(gdf, name+'.geojson')\n",
    "    \n",
    "# Load Oil Refineries Location data\n",
    "gdf = gpd.read_file('./locations_data/U.S._Petroleum_Refineries.shp')\n",
    "name = 'Oil_Refineries'\n",
    "save_geojson(gdf, name+'.geojson')\n",
    "\n",
    "username = 'matuteiglesias'\n",
    "token = 'sk.eyJ1IjoibWF0dXRlaWdsZXNpYXMiLCJhIjoiY2puODA4bW8xMGV1dzNrcGtiOGp6NXQ5aCJ9.DohKmjn_o6MK1Y4Q5FG8ew'\n",
    "\n",
    "files = os.listdir('./geojson/')\n",
    "names = [name.split('.')[0] for name in files]\n",
    "\n",
    "for i in range(len(files)):\n",
    "    print(names[i])\n",
    "    data = json.load(open('./geojson/'+files[i]))\n",
    "\n",
    "    try:\n",
    "        upload_file(data, names[i])\n",
    "    except:\n",
    "        pass"
   ]
  },
  {
   "cell_type": "code",
   "execution_count": null,
   "metadata": {},
   "outputs": [],
   "source": []
  }
 ],
 "metadata": {
  "kernelspec": {
   "display_name": "Python 3",
   "language": "python",
   "name": "python3"
  },
  "language_info": {
   "codemirror_mode": {
    "name": "ipython",
    "version": 3
   },
   "file_extension": ".py",
   "mimetype": "text/x-python",
   "name": "python",
   "nbconvert_exporter": "python",
   "pygments_lexer": "ipython3",
   "version": "3.6.6"
  }
 },
 "nbformat": 4,
 "nbformat_minor": 2
}
